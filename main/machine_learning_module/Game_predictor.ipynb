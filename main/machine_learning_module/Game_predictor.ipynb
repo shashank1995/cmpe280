{
  "nbformat": 4,
  "nbformat_minor": 0,
  "metadata": {
    "colab": {
      "name": "BetSentiment-SportsBetting-CustomLossFunction.ipynb",
      "version": "0.3.2",
      "provenance": [],
      "collapsed_sections": [],
      "toc_visible": true
    },
    "kernelspec": {
      "display_name": "Python 3",
      "language": "python",
      "name": "python3"
    }
  },
  "cells": [
    {
      "metadata": {
        "id": "pbDhbSwnDth-",
        "colab_type": "text"
      },
      "cell_type": "markdown",
      "source": [
        "# Notebook for training a Keras Neural Network on Betting Data\n",
        "This notebook will contain the code for training a neural network with keras on the betting data using a custom loss function. The details of the features in the data are in the info.pdf file in the same repo. "
      ]
    },
    {
      "metadata": {
        "id": "xSVJACHlDtiB",
        "colab_type": "code",
        "colab": {}
      },
      "cell_type": "code",
      "source": [
        "from keras.layers import BatchNormalization, Dense, Input, Dropout\n",
        "from keras.models import Model\n",
        "from keras import backend as K\n",
        "import pandas as pd\n",
        "import numpy as np\n",
        "from sklearn.model_selection import train_test_split\n",
        "from keras.callbacks import EarlyStopping, ModelCheckpoint\n",
        "import matplotlib.pyplot as plt"
      ],
      "execution_count": 0,
      "outputs": []
    },
    {
      "metadata": {
        "id": "rlWvA3BeDtiG",
        "colab_type": "text"
      },
      "cell_type": "markdown",
      "source": [
        "The data should be in the same directory as shown here"
      ]
    },
    {
      "metadata": {
        "id": "L7SSgE7SDtiG",
        "colab_type": "code",
        "outputId": "c173f53e-74fb-42c6-b32d-f7aab83e5506",
        "colab": {
          "base_uri": "https://localhost:8080/",
          "height": 34
        }
      },
      "cell_type": "code",
      "source": [
        "!ls"
      ],
      "execution_count": 0,
      "outputs": [
        {
          "output_type": "stream",
          "text": [
            "extract-betsentiment-com.csv  sample_data\n"
          ],
          "name": "stdout"
        }
      ]
    },
    {
      "metadata": {
        "id": "xbL539JLDtiM",
        "colab_type": "code",
        "colab": {}
      },
      "cell_type": "code",
      "source": [
        "def get_data():\n",
        "    data = pd.read_csv('extract-betsentiment-com.csv')\n",
        "    X = data.values[:, 5:-5]\n",
        "    y = data.values[:, -1]\n",
        "    y_full = np.zeros((X.shape[0], 8))\n",
        "    for i, y_i in enumerate(y):\n",
        "        if y_i == 1:\n",
        "            y_full[i, 0] = 1.0\n",
        "            y_full[i, 1] = 1.0\n",
        "        if y_i == 2:\n",
        "            y_full[i, 2] = 1.0\n",
        "            y_full[i, 3] = 1.0\n",
        "        if y_i == 3:\n",
        "            y_full[i, 1] = 1.0\n",
        "            y_full[i, 3] = 1.0\n",
        "            y_full[i, 4] = 1.0\n",
        "        y_full[i, 6] = X[i, 1]\n",
        "        y_full[i, 7] = X[i, 2]\n",
        "    return X, y_full, y\n",
        "X, y, outcome = get_data()\n",
        "\n",
        "\n",
        "# SPLIT THE DATA IN TRAIN AND TEST DATASET.\n",
        "train_x, test_x, train_y, test_y, = train_test_split(X,  y)\n",
        "\n"
      ],
      "execution_count": 0,
      "outputs": []
    },
    {
      "metadata": {
        "id": "7SW99rf6EOo2",
        "colab_type": "text"
      },
      "cell_type": "markdown",
      "source": [
        "The above code gives the X and y for the odds loss."
      ]
    },
    {
      "metadata": {
        "colab_type": "code",
        "outputId": "68808690-1697-4a18-e6d7-d586f611d391",
        "id": "JzU54QaPQcPY",
        "colab": {
          "base_uri": "https://localhost:8080/",
          "height": 34
        }
      },
      "cell_type": "code",
      "source": [
        "def odds_loss(y_true, y_pred):\n",
        "    \"\"\"\n",
        "    The function implements the custom loss function mentioned in info.pdf\n",
        "    \n",
        "    Inputs\n",
        "    true : a vector of dimension batch_size, 7. A label encoded version of the output and the backp1_a and backp1_b\n",
        "    pred : a vector of probabilities of dimension batch_size , 5.\n",
        "    \n",
        "    Returns \n",
        "    the loss value\n",
        "    \"\"\"\n",
        "    win_home_team = y_true[:, 0:1]\n",
        "    win_home_or_draw = y_true[:, 1:2]\n",
        "    win_away = y_true[:, 2:3]\n",
        "    win_away_or_draw = y_true[:, 3:4]\n",
        "    draw = y_true[:, 4:5]\n",
        "    no_bet = y_true[:, 5:6]\n",
        "    odds_a = y_true[:, 6:7]\n",
        "    odds_b = y_true[:, 7:8]\n",
        "    gain_loss_vector = K.concatenate([win_home_team * (odds_a - 1) + (1 - win_home_team) * -1,\n",
        "                                      win_home_or_draw * (1/(1 -1/odds_b) - 1) + (1 - win_home_or_draw) * -1,\n",
        "                                      win_away * (odds_b - 1) + (1 - win_away) * -1,\n",
        "                                      win_away_or_draw * (1/(1 -1/odds_a) - 1) + (1 - win_away_or_draw) * -1,\n",
        "                                      draw * (1/(1 - 1/odds_a - 1/odds_b) - 1) + (1 - draw) * -1,\n",
        "                                      K.zeros_like(odds_a)], axis=1)\n",
        "    return -1 * K.mean(K.sum(gain_loss_vector * y_pred, axis=1))\n",
        " \n",
        "\n",
        "\n",
        "true = K.variable(np.array([[1, 1, 0, 0, 0, 0, 2.0, 3.0]]), dtype='float32')\n",
        "pred = K.variable(np.array([[0.6, 0.1, 0.2, 0.05, 0.05, 0.0]]), dtype='float32')\n",
        "\n",
        "K.eval(odds_loss(true, pred))"
      ],
      "execution_count": 0,
      "outputs": [
        {
          "output_type": "execute_result",
          "data": {
            "text/plain": [
              "-0.35000002"
            ]
          },
          "metadata": {
            "tags": []
          },
          "execution_count": 29
        }
      ]
    },
    {
      "metadata": {
        "id": "5p5E84thFlZG",
        "colab_type": "text"
      },
      "cell_type": "markdown",
      "source": [
        "The above is the odds loss described in our medium article. It measures the profit or loss average over the input for a unit stake."
      ]
    },
    {
      "metadata": {
        "id": "eMFrES1dDtiU",
        "colab_type": "code",
        "outputId": "2de4d483-a9bd-4e2d-ff5b-e834a7a5431a",
        "colab": {
          "base_uri": "https://localhost:8080/",
          "height": 229
        }
      },
      "cell_type": "code",
      "source": [
        "def get_model(input_dim, output_dim, base=1000, multiplier=0.25, p=0.2):\n",
        "    inputs = Input(shape=(input_dim,))\n",
        "    l = BatchNormalization()(inputs)\n",
        "    l = Dropout(p)(l)\n",
        "    n = base\n",
        "    l = Dense(n, activation='relu')(l)\n",
        "    l = BatchNormalization()(l)\n",
        "    l = Dropout(p)(l)\n",
        "    n = int(n * multiplier)\n",
        "    l = Dense(n, activation='relu')(l)\n",
        "    l = BatchNormalization()(l)\n",
        "    l = Dropout(p)(l)\n",
        "    n = int(n * multiplier)\n",
        "    l = Dense(n, activation='relu')(l)\n",
        "    outputs = Dense(output_dim, activation='softmax')(l)\n",
        "    model = Model(inputs=inputs, outputs=outputs)\n",
        "    model.compile(optimizer='Nadam', loss=odds_loss)\n",
        "    return model\n",
        "\n",
        "model = get_model(21, 6, 1000, 0.9, 0.7)\n",
        "history = model.fit(train_x, train_y, validation_data=(test_x, test_y),\n",
        "          epochs=200, batch_size=5, callbacks=[EarlyStopping(patience=25),\n",
        "                                                ModelCheckpoint('odds_loss.hdf5',\n",
        "                                                                save_best_only=True)])"
      ],
      "execution_count": 0,
      "outputs": [
        {
          "output_type": "error",
          "ename": "NameError",
          "evalue": "ignored",
          "traceback": [
            "\u001b[0;31m---------------------------------------------------------------------------\u001b[0m",
            "\u001b[0;31mNameError\u001b[0m                                 Traceback (most recent call last)",
            "\u001b[0;32m<ipython-input-39-a13d135e4654>\u001b[0m in \u001b[0;36m<module>\u001b[0;34m()\u001b[0m\n\u001b[1;32m     19\u001b[0m \u001b[0;34m\u001b[0m\u001b[0m\n\u001b[1;32m     20\u001b[0m \u001b[0mmodel\u001b[0m \u001b[0;34m=\u001b[0m \u001b[0mget_model\u001b[0m\u001b[0;34m(\u001b[0m\u001b[0;36m21\u001b[0m\u001b[0;34m,\u001b[0m \u001b[0;36m6\u001b[0m\u001b[0;34m,\u001b[0m \u001b[0;36m1000\u001b[0m\u001b[0;34m,\u001b[0m \u001b[0;36m0.9\u001b[0m\u001b[0;34m,\u001b[0m \u001b[0;36m0.7\u001b[0m\u001b[0;34m)\u001b[0m\u001b[0;34m\u001b[0m\u001b[0;34m\u001b[0m\u001b[0m\n\u001b[0;32m---> 21\u001b[0;31m history = model.fit(train_x, train_y, validation_data=(test_x, test_y),metrics=[keras.metrics.categorical_accuracy],\n\u001b[0m\u001b[1;32m     22\u001b[0m           epochs=200, batch_size=5, callbacks=[EarlyStopping(patience=25),\n\u001b[1;32m     23\u001b[0m                                                 ModelCheckpoint('odds_loss.hdf5',\n",
            "\u001b[0;31mNameError\u001b[0m: name 'keras' is not defined"
          ]
        }
      ]
    },
    {
      "metadata": {
        "id": "u8tlEYflGaDW",
        "colab_type": "text"
      },
      "cell_type": "markdown",
      "source": [
        " The loss is the P/L value averaged over all the events. \n"
      ]
    },
    {
      "metadata": {
        "id": "lGjXgqAODtiX",
        "colab_type": "code",
        "outputId": "d938113b-d9f8-434c-976a-b9520c16368d",
        "colab": {
          "base_uri": "https://localhost:8080/",
          "height": 85
        }
      },
      "cell_type": "code",
      "source": [
        "print('Training Loss : {}\\nValidation Loss : {}'.format(model.evaluate(train_x, train_y), model.evaluate(test_x, test_y)))"
      ],
      "execution_count": 0,
      "outputs": [
        {
          "output_type": "stream",
          "text": [
            "150/150 [==============================] - 0s 271us/step\n",
            "50/50 [==============================] - 0s 318us/step\n",
            "Training Loss : -0.05027060141166051\n",
            "Validation Loss : -0.08301501810550689\n"
          ],
          "name": "stdout"
        }
      ]
    },
    {
      "metadata": {
        "id": "zhVtww38GTV3",
        "colab_type": "code",
        "colab": {}
      },
      "cell_type": "code",
      "source": [
        ""
      ],
      "execution_count": 0,
      "outputs": []
    }
  ]
}